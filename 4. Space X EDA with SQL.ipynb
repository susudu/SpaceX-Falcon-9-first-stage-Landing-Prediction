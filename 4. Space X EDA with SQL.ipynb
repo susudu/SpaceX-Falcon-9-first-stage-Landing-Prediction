{
    "cells": [
        {
            "cell_type": "markdown",
            "id": "830e61cb-178a-468f-8be0-81ac92ff78ca",
            "metadata": {},
            "source": "<p style=\"text-align:center\">\n    <a href=\"https://skills.network\" target=\"_blank\">\n    <img src=\"https://cf-courses-data.s3.us.cloud-object-storage.appdomain.cloud/assets/logos/SN_web_lightmode.png\" width=\"200\" alt=\"Skills Network Logo\">\n    </a>\n</p>\n\n<h1 align=center><font size = 5>Assignment: SQL Notebook for Peer Assignment</font></h1>\n\nEstimated time needed: **60** minutes.\n\n## Introduction\nUsing this Python notebook you will:\n\n1.  Understand the Spacex DataSet\n2.  Load the dataset  into the corresponding table in a Db2 database\n3.  Execute SQL queries to answer assignment questions \n"
        },
        {
            "cell_type": "markdown",
            "id": "5082b8aa-90b9-4ffc-9c5e-9cb752ce360f",
            "metadata": {},
            "source": "## Overview of the DataSet\n\nSpaceX has gained worldwide attention for a series of historic milestones. \n\nIt is the only private company ever to return a spacecraft from low-earth orbit, which it first accomplished in December 2010.\nSpaceX advertises Falcon 9 rocket launches on its website with a cost of 62 million dollars wheras other providers cost upward of 165 million dollars each, much of the savings is because Space X can reuse the first stage. \n\n\nTherefore if we can determine if the first stage will land, we can determine the cost of a launch. \n\nThis information can be used if an alternate company wants to bid against SpaceX for a rocket launch.\n\nThis dataset includes a record for each payload carried during a SpaceX mission into outer space.\n"
        },
        {
            "cell_type": "markdown",
            "id": "08d95f60-4ab7-4250-883b-d80f1e5153d1",
            "metadata": {},
            "source": "### Download the datasets\n\nThis assignment requires you to load the spacex dataset.\n\nIn many cases the dataset to be analyzed is available as a .CSV (comma separated values) file, perhaps on the internet. Click on the link below to download and save the dataset (.CSV file):\n\n <a href=\"https://cf-courses-data.s3.us.cloud-object-storage.appdomain.cloud/IBM-DS0321EN-SkillsNetwork/labs/module_2/data/Spacex.csv\" target=\"_blank\">Spacex DataSet</a>\n\n"
        },
        {
            "cell_type": "markdown",
            "id": "2f510f15-1452-4077-8aaa-a6277dcab6d4",
            "metadata": {},
            "source": "**Navigate to the Go to UI screen** \n\n* Refer to this insruction in this <a href=\"https://cf-courses-data.s3.us.cloud-object-storage.appdomain.cloud/IBMDeveloperSkillsNetwork-DB0201EN-SkillsNetwork/labs/Labs_Coursera_V5/labs/Lab%20-%20Sign%20up%20for%20IBM%20Cloud%20-%20Create%20Db2%20service%20instance%20-%20Get%20started%20with%20the%20Db2%20console/instructional-labs.md.html\">link</a> for viewing  the   Go to UI screen. \n\n\n* Later click on **Data link(below SQL)**  in the Go to UI screen  and click on **Load Data** tab.  \n\n\n\n* Later browse for the downloaded spacex file.\n\n\n\n<img src=\"https://cf-courses-data.s3.us.cloud-object-storage.appdomain.cloud/IBM-DS0321EN-SkillsNetwork/labs/module_2/images/browsefile.png\" width=\"800\">\n\n\n* Once done select the schema andload the file.  \n\n\n <img src=\"https://cf-courses-data.s3.us.cloud-object-storage.appdomain.cloud/IBM-DS0321EN-SkillsNetwork/labs/module_2/images/spacexload3.png\" width=\"800\">\n \n"
        },
        {
            "cell_type": "markdown",
            "id": "23bb9a02-86a9-4a31-be63-d5a10b5126cf",
            "metadata": {},
            "source": "\nIf you are facing a problem in uploading the dataset (which is a csv file), you can follow the steps below to upload the .sql file instead of the CSV file:\n\n* Download the file <a href=\"https://cf-courses-data.s3.us.cloud-object-storage.appdomain.cloud/IBM-DS0321EN-SkillsNetwork/datasets/Spacex%20.sql\">Spacex.sql</a>\n\n* Later click on **SQL** in the  **Go to UI Screen**.\n\n* Use the **From file** option to browse for the **SQL** file and upload it.\n\n<img src=\"https://cf-courses-data.s3.us.cloud-object-storage.appdomain.cloud/IBM-DS0321EN-SkillsNetwork/labs/module_2/images/sqlfile.png\">\n\n* Once you upload the script,you can use the **Run All** option to run all the queries to insert the data.\n\n<img src=\"https://cf-courses-data.s3.us.cloud-object-storage.appdomain.cloud/IBM-DS0321EN-SkillsNetwork/labs/module_2/images/runall.png\">\n\n    \n"
        },
        {
            "cell_type": "code",
            "execution_count": 1,
            "id": "f62bff42-5d1e-4bbb-9780-ad54a8a12126",
            "metadata": {},
            "outputs": [
                {
                    "name": "stdout",
                    "output_type": "stream",
                    "text": "Collecting ibm_db==3.1.0\n  Downloading ibm_db-3.1.0.tar.gz (797 kB)\n\u001b[2K     \u001b[90m\u2501\u2501\u2501\u2501\u2501\u2501\u2501\u2501\u2501\u2501\u2501\u2501\u2501\u2501\u2501\u2501\u2501\u2501\u2501\u2501\u2501\u2501\u2501\u2501\u2501\u2501\u2501\u2501\u2501\u2501\u2501\u2501\u2501\u2501\u2501\u2501\u2501\u2501\u001b[0m \u001b[32m797.3/797.3 kB\u001b[0m \u001b[31m47.9 MB/s\u001b[0m eta \u001b[36m0:00:00\u001b[0m\n\u001b[?25h  Installing build dependencies ... \u001b[?25ldone\n\u001b[?25h  Getting requirements to build wheel ... \u001b[?25ldone\n\u001b[?25h  Installing backend dependencies ... \u001b[?25ldone\n\u001b[?25h  Preparing metadata (pyproject.toml) ... \u001b[?25ldone\n\u001b[?25hCollecting ibm_db_sa==0.3.3\n  Downloading ibm_db_sa-0.3.3.tar.gz (24 kB)\n  Preparing metadata (setup.py) ... \u001b[?25ldone\n\u001b[?25hCollecting sqlalchemy>=0.7.3\n  Downloading SQLAlchemy-2.0.20-cp310-cp310-manylinux_2_17_x86_64.manylinux2014_x86_64.whl (3.0 MB)\n\u001b[2K     \u001b[90m\u2501\u2501\u2501\u2501\u2501\u2501\u2501\u2501\u2501\u2501\u2501\u2501\u2501\u2501\u2501\u2501\u2501\u2501\u2501\u2501\u2501\u2501\u2501\u2501\u2501\u2501\u2501\u2501\u2501\u2501\u2501\u2501\u2501\u2501\u2501\u2501\u2501\u2501\u2501\u2501\u001b[0m \u001b[32m3.0/3.0 MB\u001b[0m \u001b[31m79.9 MB/s\u001b[0m eta \u001b[36m0:00:00\u001b[0m:00:01\u001b[0m\n\u001b[?25hCollecting typing-extensions>=4.2.0\n  Downloading typing_extensions-4.7.1-py3-none-any.whl (33 kB)\nCollecting greenlet!=0.4.17\n  Downloading greenlet-2.0.2-cp310-cp310-manylinux_2_17_x86_64.manylinux2014_x86_64.whl (613 kB)\n\u001b[2K     \u001b[90m\u2501\u2501\u2501\u2501\u2501\u2501\u2501\u2501\u2501\u2501\u2501\u2501\u2501\u2501\u2501\u2501\u2501\u2501\u2501\u2501\u2501\u2501\u2501\u2501\u2501\u2501\u2501\u2501\u2501\u2501\u2501\u2501\u2501\u2501\u2501\u2501\u2501\u2501\u001b[0m \u001b[32m613.7/613.7 kB\u001b[0m \u001b[31m38.3 MB/s\u001b[0m eta \u001b[36m0:00:00\u001b[0m\n\u001b[?25hBuilding wheels for collected packages: ibm_db, ibm_db_sa\n  Building wheel for ibm_db (pyproject.toml) ... \u001b[?25ldone\n\u001b[?25h  Created wheel for ibm_db: filename=ibm_db-3.1.0-cp310-cp310-linux_x86_64.whl size=267277 sha256=6eb7318e1bb75e31617df338b33331f38c34b029c1543a14364f5f8089ed3bc4\n  Stored in directory: /tmp/wsuser/.cache/pip/wheels/50/d7/3d/cf01ca490baa2f299aca0c791a2a5708d9b9676608374e2f31\n  Building wheel for ibm_db_sa (setup.py) ... \u001b[?25ldone\n\u001b[?25h  Created wheel for ibm_db_sa: filename=ibm_db_sa-0.3.3-py3-none-any.whl size=27425 sha256=af2250f7b3d84d7706b2487d54dfcb2f46f55444f40919ad11f8b3c19d40dd34\n  Stored in directory: /tmp/wsuser/.cache/pip/wheels/63/28/d7/aea2c85d7ff99e1e8dffc7424367812bf53659141c203f2c9a\nSuccessfully built ibm_db ibm_db_sa\nInstalling collected packages: ibm_db, typing-extensions, greenlet, sqlalchemy, ibm_db_sa\n  Attempting uninstall: ibm_db\n    Found existing installation: ibm-db 3.1.3\n    Uninstalling ibm-db-3.1.3:\n      Successfully uninstalled ibm-db-3.1.3\n  Attempting uninstall: typing-extensions\n    Found existing installation: typing_extensions 4.3.0\n    Uninstalling typing_extensions-4.3.0:\n      Successfully uninstalled typing_extensions-4.3.0\n  Attempting uninstall: greenlet\n    Found existing installation: greenlet 1.1.1\n    Uninstalling greenlet-1.1.1:\n      Successfully uninstalled greenlet-1.1.1\n  Attempting uninstall: sqlalchemy\n    Found existing installation: SQLAlchemy 1.4.39\n    Uninstalling SQLAlchemy-1.4.39:\n      Successfully uninstalled SQLAlchemy-1.4.39\n  Attempting uninstall: ibm_db_sa\n    Found existing installation: ibm-db-sa 0.3.8\n    Uninstalling ibm-db-sa-0.3.8:\n      Successfully uninstalled ibm-db-sa-0.3.8\nSuccessfully installed greenlet-2.0.2 ibm_db-3.1.0 ibm_db_sa-0.3.3 sqlalchemy-2.0.20 typing-extensions-4.7.1\nCollecting sqlalchemy==1.3.24\n  Downloading SQLAlchemy-1.3.24.tar.gz (6.4 MB)\n\u001b[2K     \u001b[90m\u2501\u2501\u2501\u2501\u2501\u2501\u2501\u2501\u2501\u2501\u2501\u2501\u2501\u2501\u2501\u2501\u2501\u2501\u2501\u2501\u2501\u2501\u2501\u2501\u2501\u2501\u2501\u2501\u2501\u2501\u2501\u2501\u2501\u2501\u2501\u2501\u2501\u2501\u2501\u2501\u001b[0m \u001b[32m6.4/6.4 MB\u001b[0m \u001b[31m82.3 MB/s\u001b[0m eta \u001b[36m0:00:00\u001b[0m:00:01\u001b[0m00:01\u001b[0m\n\u001b[?25h  Preparing metadata (setup.py) ... \u001b[?25ldone\n\u001b[?25hBuilding wheels for collected packages: sqlalchemy\n  Building wheel for sqlalchemy (setup.py) ... \u001b[?25ldone\n\u001b[?25h  Created wheel for sqlalchemy: filename=SQLAlchemy-1.3.24-cp310-cp310-linux_x86_64.whl size=1219925 sha256=0f8b8c9d1402f46d821c52a8e1bcf190f1c7f70ff388f3f6e5b3eae3a7d61ebb\n  Stored in directory: /tmp/wsuser/.cache/pip/wheels/27/51/b3/3481e88d5a5ba95dd4aafedc9316774d941c4ba61cfb93add8\nSuccessfully built sqlalchemy\nInstalling collected packages: sqlalchemy\n  Attempting uninstall: sqlalchemy\n    Found existing installation: SQLAlchemy 2.0.20\n    Uninstalling SQLAlchemy-2.0.20:\n      Successfully uninstalled SQLAlchemy-2.0.20\nSuccessfully installed sqlalchemy-1.3.24\n\u001b[33mWARNING: Skipping ipython-sql as it is not installed.\u001b[0m\u001b[33m\n\u001b[0mCollecting ipython-sql==0.4.1\n  Downloading ipython_sql-0.4.1-py3-none-any.whl (21 kB)\nRequirement already satisfied: six in /opt/conda/envs/Python-3.10/lib/python3.10/site-packages (from ipython-sql==0.4.1) (1.16.0)\nCollecting prettytable<1\n  Downloading prettytable-0.7.2.zip (28 kB)\n  Preparing metadata (setup.py) ... \u001b[?25ldone\n\u001b[?25hRequirement already satisfied: sqlalchemy>=0.6.7 in /opt/conda/envs/Python-3.10/lib/python3.10/site-packages (from ipython-sql==0.4.1) (1.3.24)\nCollecting sqlparse\n  Downloading sqlparse-0.4.4-py3-none-any.whl (41 kB)\n\u001b[2K     \u001b[90m\u2501\u2501\u2501\u2501\u2501\u2501\u2501\u2501\u2501\u2501\u2501\u2501\u2501\u2501\u2501\u2501\u2501\u2501\u2501\u2501\u2501\u2501\u2501\u2501\u2501\u2501\u2501\u2501\u2501\u2501\u2501\u2501\u2501\u2501\u2501\u2501\u2501\u2501\u2501\u2501\u001b[0m \u001b[32m41.2/41.2 kB\u001b[0m \u001b[31m14.5 MB/s\u001b[0m eta \u001b[36m0:00:00\u001b[0m\n\u001b[?25hRequirement already satisfied: ipython-genutils>=0.1.0 in /opt/conda/envs/Python-3.10/lib/python3.10/site-packages (from ipython-sql==0.4.1) (0.2.0)\nRequirement already satisfied: ipython>=1.0 in /opt/conda/envs/Python-3.10/lib/python3.10/site-packages (from ipython-sql==0.4.1) (8.4.0)\nRequirement already satisfied: stack-data in /opt/conda/envs/Python-3.10/lib/python3.10/site-packages (from ipython>=1.0->ipython-sql==0.4.1) (0.2.0)\nRequirement already satisfied: traitlets>=5 in /opt/conda/envs/Python-3.10/lib/python3.10/site-packages (from ipython>=1.0->ipython-sql==0.4.1) (5.1.1)\nRequirement already satisfied: pygments>=2.4.0 in /opt/conda/envs/Python-3.10/lib/python3.10/site-packages (from ipython>=1.0->ipython-sql==0.4.1) (2.11.2)\nRequirement already satisfied: jedi>=0.16 in /opt/conda/envs/Python-3.10/lib/python3.10/site-packages (from ipython>=1.0->ipython-sql==0.4.1) (0.18.1)\nRequirement already satisfied: matplotlib-inline in /opt/conda/envs/Python-3.10/lib/python3.10/site-packages (from ipython>=1.0->ipython-sql==0.4.1) (0.1.6)\nRequirement already satisfied: pexpect>4.3 in /opt/conda/envs/Python-3.10/lib/python3.10/site-packages (from ipython>=1.0->ipython-sql==0.4.1) (4.8.0)\nRequirement already satisfied: setuptools>=18.5 in /opt/conda/envs/Python-3.10/lib/python3.10/site-packages (from ipython>=1.0->ipython-sql==0.4.1) (65.6.3)\nRequirement already satisfied: backcall in /opt/conda/envs/Python-3.10/lib/python3.10/site-packages (from ipython>=1.0->ipython-sql==0.4.1) (0.2.0)\nRequirement already satisfied: prompt-toolkit!=3.0.0,!=3.0.1,<3.1.0,>=2.0.0 in /opt/conda/envs/Python-3.10/lib/python3.10/site-packages (from ipython>=1.0->ipython-sql==0.4.1) (3.0.20)\nRequirement already satisfied: decorator in /opt/conda/envs/Python-3.10/lib/python3.10/site-packages (from ipython>=1.0->ipython-sql==0.4.1) (5.1.1)\nRequirement already satisfied: pickleshare in /opt/conda/envs/Python-3.10/lib/python3.10/site-packages (from ipython>=1.0->ipython-sql==0.4.1) (0.7.5)\nRequirement already satisfied: parso<0.9.0,>=0.8.0 in /opt/conda/envs/Python-3.10/lib/python3.10/site-packages (from jedi>=0.16->ipython>=1.0->ipython-sql==0.4.1) (0.8.3)\nRequirement already satisfied: ptyprocess>=0.5 in /opt/conda/envs/Python-3.10/lib/python3.10/site-packages (from pexpect>4.3->ipython>=1.0->ipython-sql==0.4.1) (0.7.0)\nRequirement already satisfied: wcwidth in /opt/conda/envs/Python-3.10/lib/python3.10/site-packages (from prompt-toolkit!=3.0.0,!=3.0.1,<3.1.0,>=2.0.0->ipython>=1.0->ipython-sql==0.4.1) (0.2.5)\nRequirement already satisfied: asttokens in /opt/conda/envs/Python-3.10/lib/python3.10/site-packages (from stack-data->ipython>=1.0->ipython-sql==0.4.1) (2.0.5)\nRequirement already satisfied: pure-eval in /opt/conda/envs/Python-3.10/lib/python3.10/site-packages (from stack-data->ipython>=1.0->ipython-sql==0.4.1) (0.2.2)\nRequirement already satisfied: executing in /opt/conda/envs/Python-3.10/lib/python3.10/site-packages (from stack-data->ipython>=1.0->ipython-sql==0.4.1) (0.8.3)\nBuilding wheels for collected packages: prettytable\n  Building wheel for prettytable (setup.py) ... \u001b[?25ldone\n\u001b[?25h  Created wheel for prettytable: filename=prettytable-0.7.2-py3-none-any.whl size=13713 sha256=33b3bb20398a84daee2a0e803e9bb4fe79771a39e0155e1283db34f6db700b0d\n  Stored in directory: /tmp/wsuser/.cache/pip/wheels/25/4b/07/18c5d92824315576e478206ea69df34a9e31958f6143eb0e31\nSuccessfully built prettytable\nInstalling collected packages: prettytable, sqlparse, ipython-sql\nSuccessfully installed ipython-sql-0.4.1 prettytable-0.7.2 sqlparse-0.4.4\n"
                }
            ],
            "source": "!pip install --force-reinstall ibm_db==3.1.0 ibm_db_sa==0.3.3\n!pip install sqlalchemy==1.3.24\n!pip uninstall ipython-sql -y\n!pip install ipython-sql==0.4.1"
        },
        {
            "cell_type": "markdown",
            "id": "cd8f502e-295e-4765-9340-29cd6907d9ba",
            "metadata": {},
            "source": "### Connect to the database\n\nLet us first load the SQL extension and establish a connection with the database\n"
        },
        {
            "cell_type": "code",
            "execution_count": 7,
            "id": "5044b5fc-36cb-496b-9308-fed66384b879",
            "metadata": {},
            "outputs": [
                {
                    "name": "stdout",
                    "output_type": "stream",
                    "text": "The sql extension is already loaded. To reload it, use:\n  %reload_ext sql\n"
                }
            ],
            "source": "%load_ext sql"
        },
        {
            "cell_type": "markdown",
            "id": "6e2706f1-94e8-46ac-ad02-c742d34d5c4b",
            "metadata": {},
            "source": "\n\n\n**DB2 magic in case of  UI service credentials.**\n\n\n\n<img src=\"https://cf-courses-data.s3.us.cloud-object-storage.appdomain.cloud/IBM-DS0321EN-SkillsNetwork/labs/module_2/images/servicecredentials.png\" width=\"600\">  \n\n* Use the following format.\n\n* Add security=SSL at the end\n\n**%sql ibm_db_sa://my-username:my-password@my-hostname:my-port/my-db-name?security=SSL**\n"
        },
        {
            "cell_type": "code",
            "execution_count": 8,
            "id": "7645e799-0e14-43ac-982e-055b6c9fd046",
            "metadata": {},
            "outputs": [],
            "source": "import csv, sqlite3\n\ncon = sqlite3.connect(\"my_data1.db\")\ncur = con.cursor()"
        },
        {
            "cell_type": "code",
            "execution_count": 9,
            "id": "624a2908-0961-455f-beec-ab101db77138",
            "metadata": {},
            "outputs": [],
            "source": "!pip install -q pandas==1.1.5"
        },
        {
            "cell_type": "code",
            "execution_count": 11,
            "id": "7a0ab62c-f7d1-448d-a839-1930056adecf",
            "metadata": {},
            "outputs": [],
            "source": "%sql sqlite:///my_data1.db"
        },
        {
            "cell_type": "code",
            "execution_count": 12,
            "metadata": {},
            "outputs": [
                {
                    "data": {
                        "text/plain": "101"
                    },
                    "execution_count": 12,
                    "metadata": {},
                    "output_type": "execute_result"
                }
            ],
            "source": "import pandas as pd\ndf = pd.read_csv(\"https://cf-courses-data.s3.us.cloud-object-storage.appdomain.cloud/IBM-DS0321EN-SkillsNetwork/labs/module_2/data/Spacex.csv\")\ndf.to_sql(\"SPACEXTBL\", con, if_exists='replace', index=False,method=\"multi\")"
        },
        {
            "cell_type": "markdown",
            "id": "44bf3c5a-97bb-44b2-a935-85e09b7cde79",
            "metadata": {},
            "source": "## Tasks\n\nNow write and execute SQL queries to solve the assignment tasks.\n\n### Task 1\n\n\n\n\n##### Display the names of the unique launch sites  in the space mission\n"
        },
        {
            "cell_type": "code",
            "execution_count": 13,
            "id": "36761587-6832-41b9-878f-2dd4a4e47d27",
            "metadata": {},
            "outputs": [
                {
                    "name": "stdout",
                    "output_type": "stream",
                    "text": " * sqlite:///my_data1.db\nDone.\n"
                },
                {
                    "data": {
                        "text/html": "<table>\n    <tr>\n        <th>Launch_Site</th>\n    </tr>\n    <tr>\n        <td>CCAFS LC-40</td>\n    </tr>\n    <tr>\n        <td>VAFB SLC-4E</td>\n    </tr>\n    <tr>\n        <td>KSC LC-39A</td>\n    </tr>\n    <tr>\n        <td>CCAFS SLC-40</td>\n    </tr>\n</table>",
                        "text/plain": "[('CCAFS LC-40',), ('VAFB SLC-4E',), ('KSC LC-39A',), ('CCAFS SLC-40',)]"
                    },
                    "execution_count": 13,
                    "metadata": {},
                    "output_type": "execute_result"
                }
            ],
            "source": "%sql SELECT DISTINCT LAUNCH_SITE FROM SPACEXTBL;"
        },
        {
            "cell_type": "markdown",
            "id": "90a3a0a1-d203-4286-a355-05863043a1dc",
            "metadata": {},
            "source": "\n### Task 2\n\n\n#####  Display 5 records where launch sites begin with the string 'CCA' \n"
        },
        {
            "cell_type": "code",
            "execution_count": 14,
            "id": "674d9f5c-7d1c-41a1-881d-747ed37a02cd",
            "metadata": {},
            "outputs": [
                {
                    "name": "stdout",
                    "output_type": "stream",
                    "text": " * sqlite:///my_data1.db\nDone.\n"
                },
                {
                    "data": {
                        "text/html": "<table>\n    <tr>\n        <th>Date</th>\n        <th>Time (UTC)</th>\n        <th>Booster_Version</th>\n        <th>Launch_Site</th>\n        <th>Payload</th>\n        <th>PAYLOAD_MASS__KG_</th>\n        <th>Orbit</th>\n        <th>Customer</th>\n        <th>Mission_Outcome</th>\n        <th>Landing_Outcome</th>\n    </tr>\n    <tr>\n        <td>2010-04-06</td>\n        <td>18:45:00</td>\n        <td>F9 v1.0  B0003</td>\n        <td>CCAFS LC-40</td>\n        <td>Dragon Spacecraft Qualification Unit</td>\n        <td>0</td>\n        <td>LEO</td>\n        <td>SpaceX</td>\n        <td>Success</td>\n        <td>Failure (parachute)</td>\n    </tr>\n    <tr>\n        <td>2010-08-12</td>\n        <td>15:43:00</td>\n        <td>F9 v1.0  B0004</td>\n        <td>CCAFS LC-40</td>\n        <td>Dragon demo flight C1, two CubeSats, barrel of Brouere cheese</td>\n        <td>0</td>\n        <td>LEO (ISS)</td>\n        <td>NASA (COTS) NRO</td>\n        <td>Success</td>\n        <td>Failure (parachute)</td>\n    </tr>\n    <tr>\n        <td>2012-05-22</td>\n        <td>07:44:00</td>\n        <td>F9 v1.0  B0005</td>\n        <td>CCAFS LC-40</td>\n        <td>Dragon demo flight C2</td>\n        <td>525</td>\n        <td>LEO (ISS)</td>\n        <td>NASA (COTS)</td>\n        <td>Success</td>\n        <td>No attempt</td>\n    </tr>\n    <tr>\n        <td>2012-08-10</td>\n        <td>00:35:00</td>\n        <td>F9 v1.0  B0006</td>\n        <td>CCAFS LC-40</td>\n        <td>SpaceX CRS-1</td>\n        <td>500</td>\n        <td>LEO (ISS)</td>\n        <td>NASA (CRS)</td>\n        <td>Success</td>\n        <td>No attempt</td>\n    </tr>\n    <tr>\n        <td>2013-01-03</td>\n        <td>15:10:00</td>\n        <td>F9 v1.0  B0007</td>\n        <td>CCAFS LC-40</td>\n        <td>SpaceX CRS-2</td>\n        <td>677</td>\n        <td>LEO (ISS)</td>\n        <td>NASA (CRS)</td>\n        <td>Success</td>\n        <td>No attempt</td>\n    </tr>\n</table>",
                        "text/plain": "[('2010-04-06', '18:45:00', 'F9 v1.0  B0003', 'CCAFS LC-40', 'Dragon Spacecraft Qualification Unit', 0, 'LEO', 'SpaceX', 'Success', 'Failure (parachute)'),\n ('2010-08-12', '15:43:00', 'F9 v1.0  B0004', 'CCAFS LC-40', 'Dragon demo flight C1, two CubeSats, barrel of Brouere cheese', 0, 'LEO (ISS)', 'NASA (COTS) NRO', 'Success', 'Failure (parachute)'),\n ('2012-05-22', '07:44:00', 'F9 v1.0  B0005', 'CCAFS LC-40', 'Dragon demo flight C2', 525, 'LEO (ISS)', 'NASA (COTS)', 'Success', 'No attempt'),\n ('2012-08-10', '00:35:00', 'F9 v1.0  B0006', 'CCAFS LC-40', 'SpaceX CRS-1', 500, 'LEO (ISS)', 'NASA (CRS)', 'Success', 'No attempt'),\n ('2013-01-03', '15:10:00', 'F9 v1.0  B0007', 'CCAFS LC-40', 'SpaceX CRS-2', 677, 'LEO (ISS)', 'NASA (CRS)', 'Success', 'No attempt')]"
                    },
                    "execution_count": 14,
                    "metadata": {},
                    "output_type": "execute_result"
                }
            ],
            "source": "%sql SELECT * FROM 'SPACEXTBL' WHERE Launch_Site LIKE 'CCA%' LIMIT 5;"
        },
        {
            "cell_type": "markdown",
            "id": "d0369bdc-2076-49a6-99d4-14f65c61a4b8",
            "metadata": {},
            "source": "### Task 3\n\n\n\n\n##### Display the total payload mass carried by boosters launched by NASA (CRS)\n"
        },
        {
            "cell_type": "code",
            "execution_count": 15,
            "id": "8b1ff500-b7ae-4eb5-98b3-f7c834459991",
            "metadata": {},
            "outputs": [
                {
                    "name": "stdout",
                    "output_type": "stream",
                    "text": " * sqlite:///my_data1.db\nDone.\n"
                },
                {
                    "data": {
                        "text/html": "<table>\n    <tr>\n        <th>Total Payload Mass(Kgs)</th>\n        <th>Customer</th>\n    </tr>\n    <tr>\n        <td>45596</td>\n        <td>NASA (CRS)</td>\n    </tr>\n</table>",
                        "text/plain": "[(45596, 'NASA (CRS)')]"
                    },
                    "execution_count": 15,
                    "metadata": {},
                    "output_type": "execute_result"
                }
            ],
            "source": "%sql SELECT SUM(PAYLOAD_MASS__KG_) as \"Total Payload Mass(Kgs)\", Customer FROM 'SPACEXTBL' WHERE Customer = 'NASA (CRS)';"
        },
        {
            "cell_type": "markdown",
            "id": "c6d11db9-38db-4ec7-92a1-21114d8c4df3",
            "metadata": {},
            "source": "### Task 4\n\n\n\n\n##### Display average payload mass carried by booster version F9 v1.1\n"
        },
        {
            "cell_type": "code",
            "execution_count": 16,
            "id": "6b6caa98-2ac4-4b9d-8e05-f79c70b4e110",
            "metadata": {},
            "outputs": [
                {
                    "name": "stdout",
                    "output_type": "stream",
                    "text": " * sqlite:///my_data1.db\nDone.\n"
                },
                {
                    "data": {
                        "text/html": "<table>\n    <tr>\n        <th>Payload Mass Kgs</th>\n        <th>Customer</th>\n        <th>Booster_Version</th>\n    </tr>\n    <tr>\n        <td>2534.6666666666665</td>\n        <td>MDA</td>\n        <td>F9 v1.1  B1003</td>\n    </tr>\n</table>",
                        "text/plain": "[(2534.6666666666665, 'MDA', 'F9 v1.1  B1003')]"
                    },
                    "execution_count": 16,
                    "metadata": {},
                    "output_type": "execute_result"
                }
            ],
            "source": "%sql SELECT AVG(PAYLOAD_MASS__KG_) as \"Payload Mass Kgs\", Customer, Booster_Version FROM 'SPACEXTBL' WHERE Booster_Version LIKE 'F9 v1.1%';"
        },
        {
            "cell_type": "markdown",
            "id": "ada5658d-ca4b-49f8-a14b-2d5ab53c5566",
            "metadata": {},
            "source": "### Task 5\n\n##### List the date when the first successful landing outcome in ground pad was acheived.\n\n\n_Hint:Use min function_ \n"
        },
        {
            "cell_type": "code",
            "execution_count": 17,
            "id": "3117f8fe-4b82-4bb8-8d13-b8cb2c675907",
            "metadata": {},
            "outputs": [
                {
                    "name": "stdout",
                    "output_type": "stream",
                    "text": " * sqlite:///my_data1.db\nDone.\n"
                },
                {
                    "data": {
                        "text/html": "<table>\n    <tr>\n        <th>MIN(DATE)</th>\n    </tr>\n    <tr>\n        <td>None</td>\n    </tr>\n</table>",
                        "text/plain": "[(None,)]"
                    },
                    "execution_count": 17,
                    "metadata": {},
                    "output_type": "execute_result"
                }
            ],
            "source": "%sql SELECT MIN(DATE) FROM 'SPACEXTBL' WHERE \"Landing _Outcome\" = \"Success (ground pad)\";"
        },
        {
            "cell_type": "markdown",
            "id": "e01d517c-9d89-4c13-bc69-fa4e4e14c03a",
            "metadata": {},
            "source": "### Task 6\n\n##### List the names of the boosters which have success in drone ship and have payload mass greater than 4000 but less than 6000\n"
        },
        {
            "cell_type": "code",
            "execution_count": 18,
            "id": "6c65e70c-967c-474e-8e31-2f1763828ce3",
            "metadata": {},
            "outputs": [
                {
                    "name": "stdout",
                    "output_type": "stream",
                    "text": " * sqlite:///my_data1.db\nDone.\n"
                },
                {
                    "data": {
                        "text/html": "<table>\n    <tr>\n        <th>Booster_Version</th>\n    </tr>\n    <tr>\n        <td>F9 FT B1021.1</td>\n    </tr>\n    <tr>\n        <td>F9 FT B1022</td>\n    </tr>\n    <tr>\n        <td>F9 FT B1023.1</td>\n    </tr>\n    <tr>\n        <td>F9 FT B1026</td>\n    </tr>\n    <tr>\n        <td>F9 FT B1029.1</td>\n    </tr>\n    <tr>\n        <td>F9 FT  B1021.2</td>\n    </tr>\n    <tr>\n        <td>F9 FT  B1029.2</td>\n    </tr>\n    <tr>\n        <td>F9 FT B1036.1</td>\n    </tr>\n    <tr>\n        <td>F9 FT B1038.1</td>\n    </tr>\n    <tr>\n        <td>F9 B4 B1041.1</td>\n    </tr>\n    <tr>\n        <td>F9 FT  B1031.2</td>\n    </tr>\n    <tr>\n        <td>F9 B4 B1042.1</td>\n    </tr>\n    <tr>\n        <td>F9 B4 B1045.1</td>\n    </tr>\n    <tr>\n        <td>F9 B5  B1046.1</td>\n    </tr>\n</table>",
                        "text/plain": "[('F9 FT B1021.1',),\n ('F9 FT B1022',),\n ('F9 FT B1023.1',),\n ('F9 FT B1026',),\n ('F9 FT B1029.1',),\n ('F9 FT  B1021.2',),\n ('F9 FT  B1029.2',),\n ('F9 FT B1036.1',),\n ('F9 FT B1038.1',),\n ('F9 B4 B1041.1',),\n ('F9 FT  B1031.2',),\n ('F9 B4 B1042.1',),\n ('F9 B4 B1045.1',),\n ('F9 B5  B1046.1',)]"
                    },
                    "execution_count": 18,
                    "metadata": {},
                    "output_type": "execute_result"
                }
            ],
            "source": "%sql SELECT Booster_Version FROM SPACEXTBL WHERE \"Landing_Outcome\" = 'Success (drone ship)' AND 4000 < PAYLOAD_MASS__KG_ < 6000 ;"
        },
        {
            "cell_type": "markdown",
            "id": "d49563e4-e451-4936-8e03-6f491ad58bbe",
            "metadata": {},
            "source": "### Task 7\n\n\n\n\n##### List the total number of successful and failure mission outcomes\n"
        },
        {
            "cell_type": "code",
            "execution_count": 19,
            "id": "d8c04e68-ed15-4fc9-94ea-f7c4809e9a79",
            "metadata": {},
            "outputs": [
                {
                    "name": "stdout",
                    "output_type": "stream",
                    "text": " * sqlite:///my_data1.db\nDone.\n"
                },
                {
                    "data": {
                        "text/html": "<table>\n    <tr>\n        <th>Mission_Outcome</th>\n        <th>Total</th>\n    </tr>\n    <tr>\n        <td>Failure (in flight)</td>\n        <td>1</td>\n    </tr>\n    <tr>\n        <td>Success</td>\n        <td>98</td>\n    </tr>\n    <tr>\n        <td>Success </td>\n        <td>1</td>\n    </tr>\n    <tr>\n        <td>Success (payload status unclear)</td>\n        <td>1</td>\n    </tr>\n</table>",
                        "text/plain": "[('Failure (in flight)', 1),\n ('Success', 98),\n ('Success ', 1),\n ('Success (payload status unclear)', 1)]"
                    },
                    "execution_count": 19,
                    "metadata": {},
                    "output_type": "execute_result"
                }
            ],
            "source": "%sql SELECT \"Mission_Outcome\", COUNT(\"Mission_Outcome\") as Total FROM SPACEXTBL GROUP BY \"Mission_Outcome\";"
        },
        {
            "cell_type": "markdown",
            "id": "fc17e59b-a171-403c-81cd-c93bbd95a07e",
            "metadata": {},
            "source": "### Task 8\n\n\n\n##### List the   names of the booster_versions which have carried the maximum payload mass. Use a subquery\n"
        },
        {
            "cell_type": "code",
            "execution_count": 20,
            "id": "8dcdf72b-b438-45cc-aafb-556b571ac648",
            "metadata": {},
            "outputs": [
                {
                    "name": "stdout",
                    "output_type": "stream",
                    "text": " * sqlite:///my_data1.db\nDone.\n"
                },
                {
                    "data": {
                        "text/html": "<table>\n    <tr>\n        <th>Booster_Version</th>\n    </tr>\n    <tr>\n        <td>F9 B5 B1048.4</td>\n    </tr>\n    <tr>\n        <td>F9 B5 B1049.4</td>\n    </tr>\n    <tr>\n        <td>F9 B5 B1051.3</td>\n    </tr>\n    <tr>\n        <td>F9 B5 B1056.4</td>\n    </tr>\n    <tr>\n        <td>F9 B5 B1048.5</td>\n    </tr>\n    <tr>\n        <td>F9 B5 B1051.4</td>\n    </tr>\n    <tr>\n        <td>F9 B5 B1049.5</td>\n    </tr>\n    <tr>\n        <td>F9 B5 B1060.2 </td>\n    </tr>\n    <tr>\n        <td>F9 B5 B1058.3 </td>\n    </tr>\n    <tr>\n        <td>F9 B5 B1051.6</td>\n    </tr>\n    <tr>\n        <td>F9 B5 B1060.3</td>\n    </tr>\n    <tr>\n        <td>F9 B5 B1049.7 </td>\n    </tr>\n</table>",
                        "text/plain": "[('F9 B5 B1048.4',),\n ('F9 B5 B1049.4',),\n ('F9 B5 B1051.3',),\n ('F9 B5 B1056.4',),\n ('F9 B5 B1048.5',),\n ('F9 B5 B1051.4',),\n ('F9 B5 B1049.5',),\n ('F9 B5 B1060.2 ',),\n ('F9 B5 B1058.3 ',),\n ('F9 B5 B1051.6',),\n ('F9 B5 B1060.3',),\n ('F9 B5 B1049.7 ',)]"
                    },
                    "execution_count": 20,
                    "metadata": {},
                    "output_type": "execute_result"
                }
            ],
            "source": "%sql SELECT DISTINCT Booster_Version FROM SPACEXTBL WHERE PAYLOAD_MASS__KG_ = (SELECT MAX(PAYLOAD_MASS__KG_)FROM SPACEXTBL) ;"
        },
        {
            "cell_type": "markdown",
            "id": "6a4201ad-fae5-42ca-a0e7-1a1f98efef83",
            "metadata": {},
            "source": "### Task 9\n\n\n##### List the failed landing_outcomes in drone ship, their booster versions, and launch site names for in year 2015\n\n**Note: SQLLite does not support monthnames. So you need to use  substr(Date, 6, 2) as month to get the months and substr(Date,1,4)='2015' for year.**\n"
        },
        {
            "cell_type": "code",
            "execution_count": 26,
            "id": "95315366-340e-47e2-933f-4fd5b80cdb1b",
            "metadata": {},
            "outputs": [
                {
                    "name": "stdout",
                    "output_type": "stream",
                    "text": " * sqlite:///my_data1.db\nDone.\n"
                },
                {
                    "data": {
                        "text/html": "<table>\n    <tr>\n        <th>Month</th>\n        <th>&quot;Booster Versions&quot;</th>\n        <th>Launch_Site</th>\n    </tr>\n    <tr>\n        <td>10</td>\n        <td>Booster Versions</td>\n        <td>CCAFS LC-40</td>\n    </tr>\n    <tr>\n        <td>04</td>\n        <td>Booster Versions</td>\n        <td>CCAFS LC-40</td>\n    </tr>\n</table>",
                        "text/plain": "[('10', 'Booster Versions', 'CCAFS LC-40'),\n ('04', 'Booster Versions', 'CCAFS LC-40')]"
                    },
                    "execution_count": 26,
                    "metadata": {},
                    "output_type": "execute_result"
                }
            ],
            "source": "%sql SELECT substr(Date, 6, 2) AS \"Month\", \"Booster Versions\", \"Launch_Site\" FROM SPACEXTBL WHERE \"Landing_Outcome\" = 'Failure (drone ship)' AND substr(Date,1,4)='2015';"
        },
        {
            "cell_type": "markdown",
            "id": "29e07fff-b3de-4d97-bec4-8e910b23289d",
            "metadata": {},
            "source": "### Task 10\n\n##### Rank the count of landing outcomes (such as Failure (drone ship) or Success (ground pad)) between the date 2010-06-04 and 2017-03-20, in descending order\n**Note: SQLLite does not support monthnames. So you need to use substr(Date,9,2) as date to get the date,  substr(Date, 6, 2) as month to get the months and substr(Date,1,4)='2015' for year.You need to use string format for date as '20100604' and '20170320'**\n"
        },
        {
            "cell_type": "code",
            "execution_count": 28,
            "id": "b9cf1324-1805-4a51-ad6a-9e2cf0c2908a",
            "metadata": {},
            "outputs": [
                {
                    "name": "stdout",
                    "output_type": "stream",
                    "text": " * sqlite:///my_data1.db\nDone.\n"
                },
                {
                    "data": {
                        "text/html": "<table>\n    <tr>\n        <th>Landing_Outcome</th>\n        <th>Total_Number</th>\n    </tr>\n    <tr>\n        <td>No attempt</td>\n        <td>10</td>\n    </tr>\n    <tr>\n        <td>Success (ground pad)</td>\n        <td>5</td>\n    </tr>\n    <tr>\n        <td>Success (drone ship)</td>\n        <td>5</td>\n    </tr>\n    <tr>\n        <td>Failure (drone ship)</td>\n        <td>5</td>\n    </tr>\n    <tr>\n        <td>Controlled (ocean)</td>\n        <td>3</td>\n    </tr>\n    <tr>\n        <td>Uncontrolled (ocean)</td>\n        <td>2</td>\n    </tr>\n    <tr>\n        <td>Precluded (drone ship)</td>\n        <td>1</td>\n    </tr>\n    <tr>\n        <td>Failure (parachute)</td>\n        <td>1</td>\n    </tr>\n</table>",
                        "text/plain": "[('No attempt', 10),\n ('Success (ground pad)', 5),\n ('Success (drone ship)', 5),\n ('Failure (drone ship)', 5),\n ('Controlled (ocean)', 3),\n ('Uncontrolled (ocean)', 2),\n ('Precluded (drone ship)', 1),\n ('Failure (parachute)', 1)]"
                    },
                    "execution_count": 28,
                    "metadata": {},
                    "output_type": "execute_result"
                }
            ],
            "source": "%%sql\nSELECT LANDING_OUTCOME, COUNT(LANDING_OUTCOME) AS 'Total_Number'\nFROM SPACEXTBL\nWHERE DATE BETWEEN '2010-06-04' AND '2017-03-20'\nGROUP BY LANDING_OUTCOME\nORDER BY TOTAL_NUMBER DESC"
        },
        {
            "cell_type": "markdown",
            "id": "4f2b053f-3aa1-4b8c-819a-6805f14dc13f",
            "metadata": {},
            "source": "### Reference Links\n\n* <a href =\"https://cf-courses-data.s3.us.cloud-object-storage.appdomain.cloud/IBMDeveloperSkillsNetwork-DB0201EN-SkillsNetwork/labs/Labs_Coursera_V5/labs/Lab%20-%20String%20Patterns%20-%20Sorting%20-%20Grouping/instructional-labs.md.html?origin=www.coursera.org\">Hands-on Lab : String Patterns, Sorting and Grouping</a>  \n\n*  <a  href=\"https://cf-courses-data.s3.us.cloud-object-storage.appdomain.cloud/IBMDeveloperSkillsNetwork-DB0201EN-SkillsNetwork/labs/Labs_Coursera_V5/labs/Lab%20-%20Built-in%20functions%20/Hands-on_Lab__Built-in_Functions.md.html?origin=www.coursera.org\">Hands-on Lab: Built-in functions</a>\n\n*  <a  href=\"https://cf-courses-data.s3.us.cloud-object-storage.appdomain.cloud/IBMDeveloperSkillsNetwork-DB0201EN-SkillsNetwork/labs/Labs_Coursera_V5/labs/Lab%20-%20Sub-queries%20and%20Nested%20SELECTs%20/instructional-labs.md.html?origin=www.coursera.org\">Hands-on Lab : Sub-queries and Nested SELECT Statements</a>\n\n*   <a href=\"https://cf-courses-data.s3.us.cloud-object-storage.appdomain.cloud/IBMDeveloperSkillsNetwork-DB0201EN-SkillsNetwork/labs/Module%205/DB0201EN-Week3-1-3-SQLmagic.ipynb\">Hands-on Tutorial: Accessing Databases with SQL magic</a>\n\n*  <a href= \"https://cf-courses-data.s3.us.cloud-object-storage.appdomain.cloud/IBMDeveloperSkillsNetwork-DB0201EN-SkillsNetwork/labs/Module%205/DB0201EN-Week3-1-4-Analyzing.ipynb\">Hands-on Lab: Analyzing a real World Data Set</a>\n\n\n"
        },
        {
            "cell_type": "markdown",
            "id": "d3dca03e-66e2-4aac-ac87-4b1872f26f6a",
            "metadata": {},
            "source": "## Author(s)\n\n<h4> Lakshmi Holla </h4>\n"
        },
        {
            "cell_type": "markdown",
            "id": "1751aa58-9a75-4b92-a78f-fd2399b3bde7",
            "metadata": {},
            "source": "## Other Contributors\n\n<h4> Rav Ahuja </h4>\n"
        },
        {
            "cell_type": "markdown",
            "id": "bf069ef6-4269-4895-9f8d-318b2fe1bb31",
            "metadata": {},
            "source": "## Change log\n| Date | Version | Changed by | Change Description |\n|------|--------|--------|---------|\n| 2021-10-12 | 0.4 |Lakshmi Holla | Changed markdown|\n| 2021-08-24 | 0.3 |Lakshmi Holla | Added library update|\n| 2021-07-09 | 0.2 |Lakshmi Holla | Changes made in magic sql|\n| 2021-05-20 | 0.1 |Lakshmi Holla | Created Initial Version |\n"
        },
        {
            "cell_type": "markdown",
            "id": "aca7903b-ffa6-43cb-91fa-1a14ef5a7b12",
            "metadata": {},
            "source": "## <h3 align=\"center\"> \u00a9 IBM Corporation 2021. All rights reserved. <h3/>\n"
        }
    ],
    "metadata": {
        "kernelspec": {
            "display_name": "Python 3.10",
            "language": "python",
            "name": "python3"
        },
        "language_info": {
            "codemirror_mode": {
                "name": "ipython",
                "version": 3
            },
            "file_extension": ".py",
            "mimetype": "text/x-python",
            "name": "python",
            "nbconvert_exporter": "python",
            "pygments_lexer": "ipython3",
            "version": "3.10.9"
        }
    },
    "nbformat": 4,
    "nbformat_minor": 4
}